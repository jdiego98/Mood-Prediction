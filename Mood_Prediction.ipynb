{
 "cells": [
  {
   "cell_type": "markdown",
   "metadata": {},
   "source": [
    "# Mood Prediction\n",
    "\n",
    "\n",
    "### Juan Diego Argüello Quan \n",
    "\n",
    "# Introducción \n",
    "\n",
    "La predicción del estado de ánimo de una persona es un problema muy complejo ya que es un fenómeno que puede depender de muchas variables. Pero al mismo tiempo esta predicción podría ser de gran utilidad en el campo clínico o educativo. Ahora, la creación de un modelo tiene ciertas dificultades y es por la misma razón que muchos intentos no han logrado tener una confiabilidad suficiente para aplicaciones en la vida real. \n",
    "\n",
    "El principal problema que tienen la mayoría de esos intentos es que no han sido capaces de mantener la individualización de cómo las variables afectan a cada individuo, o sea que cada variable que se use para crear el modelo predictivo afectará de forma diferente a cada persona. Por lo que el problema necesita de cierto modo crear un modelo diferente para cada persona.\n",
    "\n",
    "\n",
    "## Justificación \n",
    "\n",
    "Este proyecto busca crear un modelo de aprendizaje automático para predecir el estado animico de una persona. El poder predecir el estado animico es una gran herramienta para evitar o corregir patrones de conducta que puedan ser perjudiciales para el indiciduo. De la misma forma, con este modelo predicitivo se podrian hacer evaluaciones más completas en el ambito de la salud mental y de esta forma hacer intervenciones y tratamientos más efectivos\n",
    "\n",
    "\n",
    "## Atecedentes \n",
    "\n",
    "\n",
    "### Predicting Students Happines from physiology, phone, mobility, and behavioral data \n",
    "\n",
    "En este articulo se realizó un modelo de Machine Learning para predecir la felicidad de los estudiantes, los cuales fueron monitoreados en el transcurso de un mes. Se recolecto datos sobre sus señales fisiologicos, locación, información sobre los celulares y respuestas a encuestas enfocadas al comportamiento de los individuos. La clasificacion de feliciad fue binaria, \"triste\" con un valor de 0 y \"feliz\" con un valor de 1. En este articulo se utilizaron varios modelos de ML, entre los cuales estan **Vector Machines(SVM)**, **Random Forest (RF)**, **k-Nearest Neighbour**, **Logistic Regression** y **Neural Networks**. El mayor accuracy obtenido en esta investigación fue del 70.2% [1].\n",
    "\n",
    "\n",
    "### Personalized machine learning of depressed mood using wearables\n",
    "\n",
    "El objetivo principal de este estudio es desarrollar un enfoque personalizado para predecir el estado de ánimo \"deprimido\" o depresión utilizando diferentes tipos de datos y técnicas de aprendizaje automático. Utilizando evaluaciones ecológicas, neurocognición y datos de estilo de vida, se crearon modelos individuales de depresión para cada persona. Se encontró que no existe una estrategia única que funcione para todos, pero se identificó un enfoque combinado como el mejor en promedio. Se descubrieron características clave que influyen en la depresión para cada persona, como la ansiedad, el ejercicio, la dieta, el estrés y el rendimiento cognitivo. Estas características personalizadas pueden ser utilizadas para guiar un tratamiento multimodal y personalizado en el futuro. Con relación al presente proyecto es importante destacar de este articulo la aplicación de datos asociados al estilo de vida ya que esto va en la misma linea de lo que se propone a hacer en este trabajo [2].\n",
    "\n",
    "### Predicting Tomorrows Mood, Health and Stress Level using Personalized Multitask Learning and Domaind Adaptation\n",
    "\n",
    "\n",
    "El estudio se centra en construir un sistema de aprendizaje automático personalizado para predecir el estado de ánimo y el bienestar futuro utilizando datos recopilados de sensores portátiles y teléfonos inteligentes. Se utiliza una combinación de modelos de **redes neuronales profundas (DNN)** personalizadas utilizando el enfoque de **aprendizaje multitarea (MTL)** y modelos de **procesos gaussianos (GPs)** adaptados mediante la **adaptación de dominio (DA)**.\n",
    "\n",
    "Se recopilan autoreportes diarios de estado de ánimo y bienestar durante un mes de 70 participantes, quienes también son monitoreados las 24 horas del día con sensores fisiológicos y una aplicación de teléfono inteligente. Estos datos, junto con información histórica sobre el clima, se utilizan para entrenar modelos personalizados de DNN utilizando MTL y modelos de GPs adaptados mediante DA.\n",
    "\n",
    "Este enfoque personalizado permite desarrollar modelos que se ajustan a las características individuales de cada persona y, al mismo tiempo, se benefician de los datos agregados de la población en general. Esto ayuda a mejorar la precisión y confiabilidad de las predicciones del estado de ánimo y el bienestar futuro. Este enfoque de la personalización es una limitante en muchos estudios relacionados con la predicción del estado de ánimo [3]. \n",
    "\n",
    "\n",
    "### Mood Prediction Based on Calendar Events Using Multitask Learning\n",
    "\n",
    "En este estudio, se aborda el desafío de predecir el estado de ánimo futuro utilizando información de eventos del calendario mediante técnicas de aprendizaje automático. A diferencia de estudios previos que se enfocan únicamente en el historial de estados de ánimo, este estudio propone un modelo de aprendizaje profundo que también considera los efectos de los eventos en el estado de ánimo. Se utiliza un extractor de características de eventos para capturar la influencia de los mismos en el estado de ánimo.\n",
    "\n",
    "Para mejorar la precisión de la predicción, se implementa un enfoque de aprendizaje multitarea que considera tanto el estado de ánimo como los efectos de los eventos como variables objetivas. Los resultados demuestran que este enfoque logra una mayor precisión en comparación con los modelos de aprendizaje automático existentes [4].\n",
    "\n",
    "\n",
    "## Descripción del problema \n",
    "\n",
    "El problema es la predicción del estado anímico de las personas, basándose con datos recolectables del estilo de vida y el uso del celular. La idea es que este modelo pueda realizarse con datos medianamente accesibles para las personas.  \n",
    "\n",
    "\n",
    "## Objetivo\n",
    "\n",
    "El objetivo es crear una solución es crear un modelo predictivo usando modelos de aprendizaje automático, basándose en la información de estilo de vida básicas como el sueño y el ejercicio, así como información extraíble de la actividad en celulares, como el tiempo de pantalla, el tiempo dedicado a redes sociales, etc.\n",
    "\n",
    "\n",
    "\n",
    "## Algoritmos a utilizar\n",
    "\n",
    "- Masquinas de Vectores de Soporte (SVM)\n",
    "\n",
    "- Perceptrón Multicapa \n",
    "\n",
    "- Random Forest \n",
    "\n",
    "\n",
    "\n",
    "# Metodología \n",
    "\n",
    "A continuación se procede a cargar los datos, estudiarlos, limpiarlos y preprocesarlos. Luego se procede a crear los modelos y entrenarlos y por último a analizar sus rendimientos. Los datos se obtuvieron de Kaggle [5], es un dataset creado por una persona que registro ciertos dados propios y cada registro lo etiqueto con un estado de ánimo.  \n"
   ]
  },
  {
   "cell_type": "markdown",
   "metadata": {},
   "source": [
    "# Fitness Trends Dataset"
   ]
  },
  {
   "cell_type": "code",
   "execution_count": 183,
   "metadata": {},
   "outputs": [],
   "source": [
    "import pandas as pd\n",
    "import numpy as np\n",
    "\n",
    "\n",
    "from sklearn.preprocessing import OneHotEncoder\n",
    "from sklearn.preprocessing import MinMaxScaler\n",
    "from sklearn.neural_network import MLPClassifier\n",
    "from sklearn.metrics import accuracy_score\n",
    "from sklearn.model_selection import train_test_split, cross_val_score\n",
    "from sklearn.svm import SVC\n",
    "from sklearn.ensemble import RandomForestClassifier\n",
    "\n",
    "from sklearn import metrics\n",
    "\n",
    "from imblearn.over_sampling import RandomOverSampler\n",
    "\n",
    "import matplotlib.pyplot as plt\n",
    "import seaborn as sns\n"
   ]
  },
  {
   "cell_type": "markdown",
   "metadata": {},
   "source": [
    "### Carga de datos y estadísticas importantes"
   ]
  },
  {
   "cell_type": "code",
   "execution_count": 184,
   "metadata": {},
   "outputs": [
    {
     "name": "stdout",
     "output_type": "stream",
     "text": [
      "===================================\n",
      "Primeros cuatro registros\n",
      "         date  step_count  mood  calories_burned  hours_of_sleep  \\\n",
      "0  2017-10-06        5464   200              181               5   \n",
      "1  2017-10-07        6041   100              197               8   \n",
      "2  2017-10-08          25   100                0               5   \n",
      "3  2017-10-09        5461   100              174               4   \n",
      "\n",
      "   bool_of_active  weight_kg  \n",
      "0               0         66  \n",
      "1               0         66  \n",
      "2               0         66  \n",
      "3               0         66  \n",
      "===================================\n",
      "===================================\n",
      "Información de los datos\n",
      "<class 'pandas.core.frame.DataFrame'>\n",
      "RangeIndex: 96 entries, 0 to 95\n",
      "Data columns (total 7 columns):\n",
      " #   Column           Non-Null Count  Dtype \n",
      "---  ------           --------------  ----- \n",
      " 0   date             96 non-null     object\n",
      " 1   step_count       96 non-null     int64 \n",
      " 2   mood             96 non-null     int64 \n",
      " 3   calories_burned  96 non-null     int64 \n",
      " 4   hours_of_sleep   96 non-null     int64 \n",
      " 5   bool_of_active   96 non-null     int64 \n",
      " 6   weight_kg        96 non-null     int64 \n",
      "dtypes: int64(6), object(1)\n",
      "memory usage: 5.4+ KB\n",
      "None\n",
      "===================================\n",
      "Descripción de los datos\n",
      "        step_count        mood  calories_burned  hours_of_sleep  \\\n",
      "count    96.000000   96.000000        96.000000        96.00000   \n",
      "mean   2935.937500  211.458333        93.447917         5.21875   \n",
      "std    2143.384573   84.442184        71.601951         1.51625   \n",
      "min      25.000000  100.000000         0.000000         2.00000   \n",
      "25%     741.000000  100.000000        21.750000         4.00000   \n",
      "50%    2987.500000  200.000000        96.000000         5.00000   \n",
      "75%    4546.250000  300.000000       149.250000         6.00000   \n",
      "max    7422.000000  300.000000       243.000000         9.00000   \n",
      "\n",
      "       bool_of_active  weight_kg  \n",
      "count       96.000000  96.000000  \n",
      "mean       218.750000  64.281250  \n",
      "std        249.341237   0.627495  \n",
      "min          0.000000  64.000000  \n",
      "25%          0.000000  64.000000  \n",
      "50%          0.000000  64.000000  \n",
      "75%        500.000000  64.000000  \n",
      "max        500.000000  66.000000  \n",
      "===================================\n"
     ]
    }
   ],
   "source": [
    "df_fit = pd.read_csv('Data/Fitness_trends.csv')\n",
    "print(\"===================================\")\n",
    "print(\"Primeros cuatro registros\")\n",
    "print(df_fit.head(4))\n",
    "print(\"===================================\")\n",
    "print(\"===================================\")\n",
    "print(\"Información de los datos\")\n",
    "print(df_fit.info())\n",
    "print(\"===================================\")\n",
    "print(\"Descripción de los datos\")\n",
    "print(df_fit.describe())\n",
    "print(\"===================================\")\n"
   ]
  },
  {
   "cell_type": "markdown",
   "metadata": {},
   "source": [
    "### Selección de características  \n",
    "\n",
    "**De este dataset se procede a eliminar la columna \"weight_kg\" y \"bool_of_active\". Esto debido a que la variable weight es siempre la misma, por lo cúal no aporta al modelo. Bool of active se elimina por que es una variabel subjetiva del usuario, y solo quiere tener como variable subjetiva el target a predecir, que es el estado de ánimo**"
   ]
  },
  {
   "cell_type": "code",
   "execution_count": 185,
   "metadata": {},
   "outputs": [],
   "source": [
    "df_fit = df_fit.drop('bool_of_active', axis=1)\n",
    "df_fit = df_fit.drop('weight_kg', axis=1)\n",
    "df_fit = df_fit.drop('date', axis=1)"
   ]
  },
  {
   "cell_type": "markdown",
   "metadata": {},
   "source": [
    "**Se puede observar que existe un desbalanceo de los datos, hay más registros con la etiqueta 'Happy' (300) que con las otras. Esto puede llegar a ser un problema, debido a que el modelo tienda a clasificar mas esta clase debido al sesgo que existe.**\n",
    "\n",
    "**Para evitar esto se realizó un balanceo de datos utilizando como técnica un sobremuestreo, esto debido a que como el dataset que se esta utilizando es relativamente pequeño, aplicar un submestreo podria llevar a un sobre ajuste del modelo, comprometiendo su capacidad preditiva**"
   ]
  },
  {
   "cell_type": "code",
   "execution_count": 186,
   "metadata": {},
   "outputs": [
    {
     "data": {
      "image/png": "[encoded data removed]",
      "text/plain": [
       "<Figure size 576x432 with 1 Axes>"
      ]
     },
     "metadata": {
      "needs_background": "light"
     },
     "output_type": "display_data"
    }
   ],
   "source": [
    "class_counts = df_fit['mood'].value_counts()\n",
    "\n",
    "plt.figure(figsize=(8,6))\n",
    "class_counts.plot(kind='bar')\n",
    "plt.xlabel('Clase')\n",
    "plt.ylabel('Numero de registros')\n",
    "plt.title('Conteo de registros')\n",
    "plt.show()"
   ]
  },
  {
   "cell_type": "markdown",
   "metadata": {},
   "source": [
    "**Se verifica la existencia de datos nulos. Como no los hay no es necesario aplicar algun tipo de intervención como la imputación de datos**"
   ]
  },
  {
   "cell_type": "code",
   "execution_count": 188,
   "metadata": {},
   "outputs": [
    {
     "name": "stdout",
     "output_type": "stream",
     "text": [
      "False\n"
     ]
    }
   ],
   "source": [
    "print(df_fit.isnull().any().any())"
   ]
  },
  {
   "cell_type": "markdown",
   "metadata": {},
   "source": [
    "**Se procede a escalar los datos para poder realizar el entrenamiento del modelo**"
   ]
  },
  {
   "cell_type": "code",
   "execution_count": 190,
   "metadata": {},
   "outputs": [
    {
     "name": "stdout",
     "output_type": "stream",
     "text": [
      "   step_count  mood  calories_burned  hours_of_sleep\n",
      "0    0.735298   200         0.744856        0.428571\n",
      "1    0.813303   100         0.810700        0.857143\n"
     ]
    }
   ],
   "source": [
    "# Escalando los datos \n",
    "\n",
    "atr_continuos = ['step_count', 'calories_burned', 'hours_of_sleep']\n",
    "\n",
    "scaler = MinMaxScaler()\n",
    "\n",
    "df_fit[atr_continuos] = scaler.fit_transform(df_fit[atr_continuos])\n",
    "\n",
    "\n",
    "print(df_fit.head(2))\n",
    "\n",
    "df_fit.to_csv('Data/Fitness_trends_preprocessed.csv', index=False)\n"
   ]
  },
  {
   "cell_type": "code",
   "execution_count": 191,
   "metadata": {},
   "outputs": [],
   "source": [
    "def plot_confusion_matrix(y_test, predicted):    \n",
    "    \"\"\"\n",
    "    Displays the confusion matrix and other metrics.\n",
    "    \n",
    "    Parameters:\n",
    "      y_test : a list of test data. \n",
    "      predicted: a list of model results\n",
    "    \"\"\"\n",
    "    classes = np.unique(y_test)\n",
    "    \n",
    "    ## Accuracy, Precision, Recall\n",
    "    accuracy = metrics.accuracy_score(y_test, predicted)\n",
    "\n",
    "    print(\"Accuracy:\",  round(accuracy,2))\n",
    "    print(\"Details:\")\n",
    "    print(metrics.classification_report(y_test, predicted))\n",
    "    \n",
    "    ## Plot confusion matrix\n",
    "    cm = metrics.confusion_matrix(y_test, predicted)\n",
    "    fig, ax = plt.subplots()\n",
    "    sns.heatmap(cm, annot=True, fmt='d', ax=ax, cmap=plt.cm.Blues, \n",
    "            cbar=False)\n",
    "    ax.set(xlabel=\"Pred\", ylabel=\"True\", xticklabels=classes, \n",
    "           yticklabels=classes, title=\"Confusion matrix\")\n",
    "    plt.yticks(rotation=0)\n",
    "\n",
    "    plt.show()\n",
    "    \n"
   ]
  },
  {
   "cell_type": "code",
   "execution_count": 210,
   "metadata": {},
   "outputs": [],
   "source": [
    "# # Se dividen los atributos de la variable objetivo\n",
    "\n",
    "# # Se cargan el dataset procesado\n",
    "# df = pd.read_csv('Data/Fitness_trends_preprocessed.csv')\n",
    "\n",
    "# # Se dividen los atributos de la variable objetivo\n",
    "# X = df.drop('mood', axis=1)\n",
    "# y = df['mood']\n",
    "\n",
    "# # Se aplica el balanceo de los datos\n",
    "# over_sampler = RandomOverSampler()\n",
    "# X, y = over_sampler.fit_resample(X,y)\n"
   ]
  },
  {
   "cell_type": "markdown",
   "metadata": {},
   "source": [
    "**Implementación del Perceptrón Multicapa**"
   ]
  },
  {
   "cell_type": "code",
   "execution_count": 206,
   "metadata": {},
   "outputs": [
    {
     "name": "stdout",
     "output_type": "stream",
     "text": [
      "Precisión del modelo: 0.46\n",
      "Accuracy: 0.46\n",
      "Details:\n",
      "              precision    recall  f1-score   support\n",
      "\n",
      "         100       0.43      0.50      0.46         6\n",
      "         200       0.50      0.40      0.44        10\n",
      "         300       0.44      0.50      0.47         8\n",
      "\n",
      "    accuracy                           0.46        24\n",
      "   macro avg       0.46      0.47      0.46        24\n",
      "weighted avg       0.46      0.46      0.46        24\n",
      "\n"
     ]
    },
    {
     "name": "stderr",
     "output_type": "stream",
     "text": [
      "C:\\Users\\jdieg\\anaconda3\\lib\\site-packages\\sklearn\\neural_network\\_multilayer_perceptron.py:686: ConvergenceWarning: Stochastic Optimizer: Maximum iterations (200) reached and the optimization hasn't converged yet.\n",
      "  warnings.warn(\n"
     ]
    },
    {
     "data": {
      "image/png": "[encoded data removed]",
      "text/plain": [
       "<Figure size 432x288 with 1 Axes>"
      ]
     },
     "metadata": {
      "needs_background": "light"
     },
     "output_type": "display_data"
    }
   ],
   "source": [
    "# Implementando un Perceptron Multicapa \n",
    "\n",
    "\n",
    "# Se cargan el dataset procesado\n",
    "df = pd.read_csv('Data/Fitness_trends_preprocessed.csv')\n",
    "\n",
    "# Se dividen los atributos de la variable objetivo\n",
    "X = df.drop('mood', axis=1)\n",
    "y = df['mood']\n",
    "\n",
    "# Se aplica el balanceo de los datos\n",
    "over_sampler = RandomOverSampler()\n",
    "X, y = over_sampler.fit_resample(X,y)\n",
    "\n",
    "\n",
    "# Division de conjuntos de entrenamiento y prueba \n",
    "X_train, X_test, y_train, y_test = train_test_split(X, y, test_size=0.2, random_state=42)\n",
    "\n",
    "# Creando el modelo MLP \n",
    "model = MLPClassifier(activation='relu', hidden_layer_sizes=(50), random_state=42)\n",
    "\n",
    "# Entrenando el modelo \n",
    "model.fit(X_train, y_train)\n",
    "\n",
    "# Prediciendo 'Mood'\n",
    "y_pred = model.predict(X_test)\n",
    "\n",
    "# Calcular la prediccion \n",
    "mlp_accuracy = accuracy_score(y_test, y_pred)\n",
    "print(\"Precisión del modelo: {:.2f}\".format(mlp_accuracy))\n",
    "\n",
    "plot_confusion_matrix(y_test, y_pred)\n"
   ]
  },
  {
   "cell_type": "markdown",
   "metadata": {},
   "source": [
    "**Implementación de un modelo SVM**"
   ]
  },
  {
   "cell_type": "code",
   "execution_count": 222,
   "metadata": {},
   "outputs": [
    {
     "name": "stdout",
     "output_type": "stream",
     "text": [
      "Precisión del modelo: 0.46\n",
      "Accuracy: 0.46\n",
      "Details:\n",
      "              precision    recall  f1-score   support\n",
      "\n",
      "         100       0.50      0.50      0.50         6\n",
      "         200       0.46      0.60      0.52        10\n",
      "         300       0.40      0.25      0.31         8\n",
      "\n",
      "    accuracy                           0.46        24\n",
      "   macro avg       0.45      0.45      0.44        24\n",
      "weighted avg       0.45      0.46      0.44        24\n",
      "\n"
     ]
    },
    {
     "data": {
      "image/png": "[encoded data removed]",
      "text/plain": [
       "<Figure size 432x288 with 1 Axes>"
      ]
     },
     "metadata": {
      "needs_background": "light"
     },
     "output_type": "display_data"
    }
   ],
   "source": [
    "# Implementando SVM\n",
    "\n",
    "# Se cargan el dataset procesado\n",
    "df = pd.read_csv('Data/Fitness_trends_preprocessed.csv')\n",
    "\n",
    "# Se dividen los atributos de la variable objetivo\n",
    "X = df.drop('mood', axis=1)\n",
    "y = df['mood']\n",
    "\n",
    "# Se aplica el balanceo de los datos\n",
    "over_sampler = RandomOverSampler()\n",
    "X, y = over_sampler.fit_resample(X,y)\n",
    "\n",
    "# Division de conjuntos de entrenamiento y prueba \n",
    "X_train, X_test, y_train, y_test = train_test_split(X, y, test_size=0.2, random_state=42)\n",
    "\n",
    "\n",
    "# Crear el modelo SVM\n",
    "model = SVC(random_state=42)\n",
    "\n",
    "# Entrenar el modelo\n",
    "model.fit(X_train, y_train)\n",
    "\n",
    "# Realizar predicciones en el conjunto de prueba\n",
    "y_pred = model.predict(X_test)\n",
    "\n",
    "# Calcular la precisión del modelo\n",
    "accuracy = accuracy_score(y_test, y_pred)\n",
    "print(\"Precisión del modelo: {:.2f}\".format(accuracy))\n",
    "\n",
    "plot_confusion_matrix(y_test, y_pred)\n"
   ]
  },
  {
   "cell_type": "markdown",
   "metadata": {},
   "source": [
    "**Implementación del Random Forest**"
   ]
  },
  {
   "cell_type": "code",
   "execution_count": 224,
   "metadata": {},
   "outputs": [
    {
     "name": "stdout",
     "output_type": "stream",
     "text": [
      "Precisión del modelo: 0.67\n",
      "Precisión promedio de la validación cruzada: 0.58\n",
      "Accuracy: 0.67\n",
      "Details:\n",
      "              precision    recall  f1-score   support\n",
      "\n",
      "         100       1.00      0.50      0.67         6\n",
      "         200       0.60      0.90      0.72        10\n",
      "         300       0.67      0.50      0.57         8\n",
      "\n",
      "    accuracy                           0.67        24\n",
      "   macro avg       0.76      0.63      0.65        24\n",
      "weighted avg       0.72      0.67      0.66        24\n",
      "\n"
     ]
    },
    {
     "data": {
      "image/png": "[encoded data removed]",
      "text/plain": [
       "<Figure size 432x288 with 1 Axes>"
      ]
     },
     "metadata": {
      "needs_background": "light"
     },
     "output_type": "display_data"
    }
   ],
   "source": [
    "# Implementando un Random Forest \n",
    "\n",
    "\n",
    "# df = pd.read_csv('Data/Fitness_trends_preprocessed.csv')\n",
    "\n",
    "# # Se dividen los atributos de la variable objetivo\n",
    "# X = df.drop('mood', axis=1)\n",
    "# y = df['mood']\n",
    "\n",
    "# Se cargan el dataset procesado\n",
    "df = pd.read_csv('Data/Fitness_trends_preprocessed.csv')\n",
    "\n",
    "# Se dividen los atributos de la variable objetivo\n",
    "X = df.drop('mood', axis=1)\n",
    "y = df['mood']\n",
    "\n",
    "# Se aplica el balanceo de los datos\n",
    "over_sampler = RandomOverSampler()\n",
    "X, y = over_sampler.fit_resample(X,y)\n",
    "\n",
    "# Division de conjuntos de entrenamiento y prueba \n",
    "X_train, X_test, y_train, y_test = train_test_split(X, y, test_size=0.2, random_state=42)\n",
    "\n",
    "model = RandomForestClassifier(n_estimators=100, random_state=42)\n",
    "\n",
    "# Entrenar el modelo\n",
    "model.fit(X_train, y_train)\n",
    "\n",
    "# Realizar predicciones en el conjunto de prueba\n",
    "y_pred = model.predict(X_test)\n",
    "\n",
    "# Calcular la precisión del modelo\n",
    "accuracy = accuracy_score(y_test, y_pred)\n",
    "print(\"Precisión del modelo: {:.2f}\".format(accuracy))\n",
    "\n",
    "cv_scores_rf = cross_val_score(model, X_train, y_train, cv=5)\n",
    "mean_cv_accuracy = cv_scores_rf.mean()\n",
    "\n",
    "print(\"Precisión promedio de la validación cruzada: {:.2f}\".format(mean_cv_accuracy))\n",
    "\n",
    "\n",
    "plot_confusion_matrix(y_test, y_pred)\n"
   ]
  },
  {
   "cell_type": "markdown",
   "metadata": {},
   "source": [
    "# Resultados\n",
    "\n",
    "\n",
    "### Perceptrón Multicapa \n",
    "\n",
    "\n",
    "A continuación se muestran los resultados finales del modelo Percetrón Multicapa\n",
    "\n",
    "![Resultados MLP](Imagenes/Resultados_MLP.png)\n",
    "\n",
    "\n",
    "Se puede observar que el modelo obtuvo una precisión del 46%, la cual es medianamente aceptable. Considerando las limitaciones que existen en el presente dataset. Se obtuvo que la clase **Neutral** (200) fue la que tuve mejor precisión con 50% las otras dos fueron muy parecidas con un 44% de precisión aproximadamente. \n",
    "\n",
    "Debido al balanceo de datos, se logro mejorar la precisión del modelo en 1%.\n",
    "\n",
    "\n",
    "\n",
    "### Support Vector Machine (SVM)\n",
    "\n",
    "\n",
    "A continuación se muestran los resultados finales del modelo SVM\n",
    "\n",
    "![Resultados MLP](Imagenes/Resultados_SVM.png)\n",
    "\n",
    "En general, este modelo muestra un rendimiento igualmente de limitado que el MLP con una precisión del 46%. En este caso la clase **Happy** fue la que mejor precisión con un 50%. Viendo la matriz de confusión se puede observa de forma gráfica como la clase **Neutral** fue la que más clasficiaciones correctas tuvo, sin embargo no fue la más precisa, debido a que en los datos de entrenamiento habian más registros de esta clase.\n",
    "\n",
    "\n",
    "### Random Forest \n",
    "\n",
    "\n",
    "A continuación se muestran los resultados finales del modelo Random Forest\n",
    "\n",
    "![Resultados MLP](Imagenes/Resultados_RF.png)\n",
    "\n",
    "Por último, el modelo de Random Forest fue el que obtuvo mejor precisión con un 67%, es el unico que se puede considerar aceptable a la hora de predicir el estado de ánimo. En este la precisión de la clase **Happy** fue perfecta, aun que el recall muestra que solo se identificó correctamente la mitad de las muestras de esta clase. \n",
    "\n",
    "Tambien es importante mencionar que este modelo fue el que más se vio beneficiado con el balanceo de datos ya que paso de tener una precisión del 35% a 67%, una mejora de casi el doble. \n",
    "\n",
    "\n",
    "\n",
    "# Conclusiones \n",
    "\n",
    "\n",
    "- En general se obtuvieron modelos medianamente aceptables con precisiones aproximadamente del 45% con la excepción del Ranfom Forest con un 67%. Esto se debe en gran medida por las limitaciones del dataset con el que se trabajó. Además de que se tenían pocos datos para predecir el estado de ánimo. \n",
    "\n",
    "- Si se pudieran recolectar distintos tipos de datos haría que el modelo sea más robusto. También un monitoreo más extenso puede beneficiar a los modelos. En especial se considera que más variables acerca del estado físico de la persona pueda ayudar, más información sobre la actividad física, el sueño o la nutrición se recomienda implementar en futuras investigaciones.\n",
    "\n",
    "- También es importante resaltar que este modelo se está realizando para un individuo en específico. Pensando en una real implementación de modelos predictivos en aplicaciones de la vida real, es importante contemplar las diferencias entre personas y como cada variable puede comportarse diferente. Por eso de cara a futuras implementaciones también se recomienda implementar algoritmos como el **Aprendizaje Multitarea (MTL)** y la **Adaptación de Dominio**\n",
    "\n",
    "\n",
    "# Referencias \n",
    "\n",
    "[1] N. Jaques, S. Taylor, A. Azaria, A. Ghandeharioun, A. Sano and R. Picard, \"Predicting students' happiness from physiology, phone, mobility, and behavioral data,\" 2015 International Conference on Affective Computing and Intelligent Interaction (ACII), Xi'an, China, 2015, pp. 222-228, doi: 10.1109/ACII.2015.7344575\n",
    "\n",
    "[2] Shah, R.V., Grennan, G., Zafar-Khan, M. et al. Personalized machine learning of depressed mood using wearables. Transl Psychiatry 11, 338 (2021). https://doi.org/10.1038/s41398-021-01445-0\n",
    "\n",
    "[3] Jaques, N., Taylor, S., Sano, A., & Picard, R. (2017, September). Predicting tomorrow’s mood, health, and stress level using personalized multitask learning and domain adaptation. In IJCAI 2017 Workshop on artificial intelligence in affective computing (pp. 17-33). PMLR.\n",
    "\n",
    "[4] N. Tateyama, R. Fukui and S. Warisawa, \"Mood Prediction Based on Calendar Events Using Multitask Learning,\" in IEEE Access, vol. 10, pp. 79747-79759, 2022, doi: 10.1109/ACCESS.2022.3193778.\n",
    "\n",
    "[5] Fitness Trends Dataset. (2023). Consultado el 2 de junio 2023, extraído de https://www.kaggle.com/datasets/aroojanwarkhan/fitness-data-trends"
   ]
  },
  {
   "cell_type": "code",
   "execution_count": null,
   "metadata": {},
   "outputs": [],
   "source": []
  },
  {
   "cell_type": "code",
   "execution_count": null,
   "metadata": {},
   "outputs": [],
   "source": []
  },
  {
   "cell_type": "code",
   "execution_count": null,
   "metadata": {},
   "outputs": [],
   "source": []
  }
 ],
 "metadata": {
  "kernelspec": {
   "display_name": "Python 3",
   "language": "python",
   "name": "python3"
  },
  "language_info": {
   "codemirror_mode": {
    "name": "ipython",
    "version": 3
   },
   "file_extension": ".py",
   "mimetype": "text/x-python",
   "name": "python",
   "nbconvert_exporter": "python",
   "pygments_lexer": "ipython3",
   "version": "3.8.5"
  }
 },
 "nbformat": 4,
 "nbformat_minor": 4
}
